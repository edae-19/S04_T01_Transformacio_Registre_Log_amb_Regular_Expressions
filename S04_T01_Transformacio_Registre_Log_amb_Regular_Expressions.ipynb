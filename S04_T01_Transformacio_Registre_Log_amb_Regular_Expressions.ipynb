{
 "cells": [
  {
   "cell_type": "markdown",
   "metadata": {},
   "source": [
    "# S04 T01: Transformació Registre Log amb Regular expressions\n",
    "\n",
    "#### David Arroyo"
   ]
  },
  {
   "cell_type": "code",
   "execution_count": 67,
   "metadata": {},
   "outputs": [],
   "source": [
    "import pandas as pd\n",
    "import re\n",
    "import matplotlib.pyplot as plt\n",
    "import seaborn as sns"
   ]
  },
  {
   "cell_type": "code",
   "execution_count": 2,
   "metadata": {},
   "outputs": [],
   "source": [
    "with open ('Datos\\Web_access_log-akumenius.com.txt', 'r') as file:\n",
    "    lines_list = []\n",
    "    for line in file:\n",
    "        line_string = line.strip()\n",
    "        lines_list.append(line_string)"
   ]
  },
  {
   "cell_type": "code",
   "execution_count": 3,
   "metadata": {},
   "outputs": [],
   "source": [
    "log_df = pd.DataFrame([lines_list]).T"
   ]
  },
  {
   "cell_type": "code",
   "execution_count": 4,
   "metadata": {},
   "outputs": [
    {
     "data": {
      "text/plain": [
       "(261873, 1)"
      ]
     },
     "execution_count": 4,
     "metadata": {},
     "output_type": "execute_result"
    }
   ],
   "source": [
    "log_df.shape"
   ]
  },
  {
   "cell_type": "code",
   "execution_count": 5,
   "metadata": {},
   "outputs": [],
   "source": [
    "log_df.rename(columns = {0:'Record'}, inplace = True)"
   ]
  },
  {
   "cell_type": "code",
   "execution_count": 6,
   "metadata": {},
   "outputs": [
    {
     "name": "stdout",
     "output_type": "stream",
     "text": [
      "<class 'pandas.core.frame.DataFrame'>\n",
      "RangeIndex: 261873 entries, 0 to 261872\n",
      "Data columns (total 1 columns):\n",
      " #   Column  Non-Null Count   Dtype \n",
      "---  ------  --------------   ----- \n",
      " 0   Record  261873 non-null  object\n",
      "dtypes: object(1)\n",
      "memory usage: 2.0+ MB\n"
     ]
    }
   ],
   "source": [
    "log_df.info()"
   ]
  },
  {
   "cell_type": "code",
   "execution_count": 39,
   "metadata": {},
   "outputs": [],
   "source": [
    "'''\n",
    "Function to verify weather a pattern is found in a column of a data frame. \n",
    "\n",
    "Inputs: \n",
    "patern:  Regular expression in a string format\n",
    "df: Dataframe to be used\n",
    "column: Name of the column where we want to perform the search\n",
    "\n",
    "Outputs:\n",
    "Added column named 'Result'. Boolean, True or False \n",
    "Added column named 'itemFound'. Item foud or None, in case no item matches the pattern\n",
    "\n",
    "'''\n",
    "\n",
    "def serch_pattern (pattern, df, column):\n",
    "    \n",
    "    serched_list = df[column].tolist()\n",
    "    result_list = []\n",
    "    serched_item_list = []\n",
    "\n",
    "    for string in serched_list:\n",
    "        serched_item = re.match(pattern, string)\n",
    "        \n",
    "        if serched_item:\n",
    "            result_list.append (True)\n",
    "            serched_item_list.append(serched_item.group(0))\n",
    "        else:\n",
    "            result_list.append (False)\n",
    "            serched_item_list.append(None) \n",
    "    \n",
    "    df['Result'] = result_list\n",
    "    df['itemFound'] = serched_item_list\n",
    "         "
   ]
  },
  {
   "cell_type": "code",
   "execution_count": null,
   "metadata": {},
   "outputs": [],
   "source": []
  },
  {
   "cell_type": "code",
   "execution_count": null,
   "metadata": {},
   "outputs": [],
   "source": []
  },
  {
   "cell_type": "code",
   "execution_count": null,
   "metadata": {},
   "outputs": [],
   "source": []
  },
  {
   "cell_type": "code",
   "execution_count": null,
   "metadata": {},
   "outputs": [],
   "source": []
  },
  {
   "cell_type": "code",
   "execution_count": null,
   "metadata": {},
   "outputs": [],
   "source": []
  },
  {
   "cell_type": "code",
   "execution_count": null,
   "metadata": {},
   "outputs": [],
   "source": []
  },
  {
   "cell_type": "code",
   "execution_count": null,
   "metadata": {},
   "outputs": [],
   "source": []
  },
  {
   "cell_type": "code",
   "execution_count": null,
   "metadata": {},
   "outputs": [],
   "source": []
  },
  {
   "cell_type": "code",
   "execution_count": 43,
   "metadata": {},
   "outputs": [],
   "source": [
    "# Test df to validate the different metodologies used to clean and transform the final DF\n",
    "\n",
    "test_df = log_df.loc[:200, 'Record'].to_frame()\n"
   ]
  },
  {
   "cell_type": "code",
   "execution_count": 44,
   "metadata": {},
   "outputs": [
    {
     "data": {
      "text/html": [
       "<div>\n",
       "<style scoped>\n",
       "    .dataframe tbody tr th:only-of-type {\n",
       "        vertical-align: middle;\n",
       "    }\n",
       "\n",
       "    .dataframe tbody tr th {\n",
       "        vertical-align: top;\n",
       "    }\n",
       "\n",
       "    .dataframe thead th {\n",
       "        text-align: right;\n",
       "    }\n",
       "</style>\n",
       "<table border=\"1\" class=\"dataframe\">\n",
       "  <thead>\n",
       "    <tr style=\"text-align: right;\">\n",
       "      <th></th>\n",
       "      <th>Record</th>\n",
       "    </tr>\n",
       "  </thead>\n",
       "  <tbody>\n",
       "    <tr>\n",
       "      <th>0</th>\n",
       "      <td>localhost 127.0.0.1 - - [23/Feb/2014:03:10:31 ...</td>\n",
       "    </tr>\n",
       "    <tr>\n",
       "      <th>1</th>\n",
       "      <td>localhost 127.0.0.1 - - [23/Feb/2014:03:10:31 ...</td>\n",
       "    </tr>\n",
       "    <tr>\n",
       "      <th>2</th>\n",
       "      <td>localhost 127.0.0.1 - - [23/Feb/2014:03:10:31 ...</td>\n",
       "    </tr>\n",
       "    <tr>\n",
       "      <th>3</th>\n",
       "      <td>localhost 127.0.0.1 - - [23/Feb/2014:03:10:31 ...</td>\n",
       "    </tr>\n",
       "    <tr>\n",
       "      <th>4</th>\n",
       "      <td>localhost 127.0.0.1 - - [23/Feb/2014:03:10:31 ...</td>\n",
       "    </tr>\n",
       "  </tbody>\n",
       "</table>\n",
       "</div>"
      ],
      "text/plain": [
       "                                              Record\n",
       "0  localhost 127.0.0.1 - - [23/Feb/2014:03:10:31 ...\n",
       "1  localhost 127.0.0.1 - - [23/Feb/2014:03:10:31 ...\n",
       "2  localhost 127.0.0.1 - - [23/Feb/2014:03:10:31 ...\n",
       "3  localhost 127.0.0.1 - - [23/Feb/2014:03:10:31 ...\n",
       "4  localhost 127.0.0.1 - - [23/Feb/2014:03:10:31 ..."
      ]
     },
     "execution_count": 44,
     "metadata": {},
     "output_type": "execute_result"
    }
   ],
   "source": [
    "test_df.head()"
   ]
  },
  {
   "cell_type": "markdown",
   "metadata": {},
   "source": [
    "#### Eliminate rows not starting with a web page pattern"
   ]
  },
  {
   "cell_type": "code",
   "execution_count": 45,
   "metadata": {},
   "outputs": [],
   "source": [
    "web_pattern = '^([a-z0-9][a-z0-9\\-]*\\.)+([a-z0-9][a-z0-9\\-]*)'"
   ]
  },
  {
   "cell_type": "code",
   "execution_count": 46,
   "metadata": {},
   "outputs": [],
   "source": [
    "serch_pattern (web_pattern,test_df,'Record')"
   ]
  },
  {
   "cell_type": "code",
   "execution_count": 49,
   "metadata": {},
   "outputs": [],
   "source": [
    "test_df.drop(test_df.loc[test_df['Result']== False].index, inplace=True)"
   ]
  },
  {
   "cell_type": "code",
   "execution_count": 50,
   "metadata": {},
   "outputs": [
    {
     "data": {
      "text/html": [
       "<div>\n",
       "<style scoped>\n",
       "    .dataframe tbody tr th:only-of-type {\n",
       "        vertical-align: middle;\n",
       "    }\n",
       "\n",
       "    .dataframe tbody tr th {\n",
       "        vertical-align: top;\n",
       "    }\n",
       "\n",
       "    .dataframe thead th {\n",
       "        text-align: right;\n",
       "    }\n",
       "</style>\n",
       "<table border=\"1\" class=\"dataframe\">\n",
       "  <thead>\n",
       "    <tr style=\"text-align: right;\">\n",
       "      <th></th>\n",
       "      <th>Record</th>\n",
       "      <th>Result</th>\n",
       "      <th>itemFound</th>\n",
       "    </tr>\n",
       "  </thead>\n",
       "  <tbody>\n",
       "    <tr>\n",
       "      <th>22</th>\n",
       "      <td>www.akumenius.com 66.249.76.216 - - [23/Feb/20...</td>\n",
       "      <td>True</td>\n",
       "      <td>www.akumenius.com</td>\n",
       "    </tr>\n",
       "    <tr>\n",
       "      <th>23</th>\n",
       "      <td>www.akumenius.com 66.249.76.216 - - [23/Feb/20...</td>\n",
       "      <td>True</td>\n",
       "      <td>www.akumenius.com</td>\n",
       "    </tr>\n",
       "    <tr>\n",
       "      <th>24</th>\n",
       "      <td>www.akumenius.com 66.249.76.216 - - [23/Feb/20...</td>\n",
       "      <td>True</td>\n",
       "      <td>www.akumenius.com</td>\n",
       "    </tr>\n",
       "    <tr>\n",
       "      <th>25</th>\n",
       "      <td>www.akumenius.com 66.249.76.216 - - [23/Feb/20...</td>\n",
       "      <td>True</td>\n",
       "      <td>www.akumenius.com</td>\n",
       "    </tr>\n",
       "    <tr>\n",
       "      <th>26</th>\n",
       "      <td>www.akumenius.com 66.249.76.216 - - [23/Feb/20...</td>\n",
       "      <td>True</td>\n",
       "      <td>www.akumenius.com</td>\n",
       "    </tr>\n",
       "  </tbody>\n",
       "</table>\n",
       "</div>"
      ],
      "text/plain": [
       "                                               Record  Result  \\\n",
       "22  www.akumenius.com 66.249.76.216 - - [23/Feb/20...    True   \n",
       "23  www.akumenius.com 66.249.76.216 - - [23/Feb/20...    True   \n",
       "24  www.akumenius.com 66.249.76.216 - - [23/Feb/20...    True   \n",
       "25  www.akumenius.com 66.249.76.216 - - [23/Feb/20...    True   \n",
       "26  www.akumenius.com 66.249.76.216 - - [23/Feb/20...    True   \n",
       "\n",
       "            itemFound  \n",
       "22  www.akumenius.com  \n",
       "23  www.akumenius.com  \n",
       "24  www.akumenius.com  \n",
       "25  www.akumenius.com  \n",
       "26  www.akumenius.com  "
      ]
     },
     "execution_count": 50,
     "metadata": {},
     "output_type": "execute_result"
    }
   ],
   "source": [
    "test_df.head()"
   ]
  },
  {
   "cell_type": "markdown",
   "metadata": {},
   "source": [
    "#### Eliminate 'Result' Column and Rename 'itemFound' Column\n"
   ]
  },
  {
   "cell_type": "code",
   "execution_count": 56,
   "metadata": {},
   "outputs": [],
   "source": [
    "test_df.drop(columns = ['Result'], inplace = True)"
   ]
  },
  {
   "cell_type": "code",
   "execution_count": 57,
   "metadata": {},
   "outputs": [
    {
     "data": {
      "text/html": [
       "<div>\n",
       "<style scoped>\n",
       "    .dataframe tbody tr th:only-of-type {\n",
       "        vertical-align: middle;\n",
       "    }\n",
       "\n",
       "    .dataframe tbody tr th {\n",
       "        vertical-align: top;\n",
       "    }\n",
       "\n",
       "    .dataframe thead th {\n",
       "        text-align: right;\n",
       "    }\n",
       "</style>\n",
       "<table border=\"1\" class=\"dataframe\">\n",
       "  <thead>\n",
       "    <tr style=\"text-align: right;\">\n",
       "      <th></th>\n",
       "      <th>Record</th>\n",
       "      <th>WebPage</th>\n",
       "    </tr>\n",
       "  </thead>\n",
       "  <tbody>\n",
       "    <tr>\n",
       "      <th>22</th>\n",
       "      <td>www.akumenius.com 66.249.76.216 - - [23/Feb/20...</td>\n",
       "      <td>www.akumenius.com</td>\n",
       "    </tr>\n",
       "    <tr>\n",
       "      <th>23</th>\n",
       "      <td>www.akumenius.com 66.249.76.216 - - [23/Feb/20...</td>\n",
       "      <td>www.akumenius.com</td>\n",
       "    </tr>\n",
       "    <tr>\n",
       "      <th>24</th>\n",
       "      <td>www.akumenius.com 66.249.76.216 - - [23/Feb/20...</td>\n",
       "      <td>www.akumenius.com</td>\n",
       "    </tr>\n",
       "    <tr>\n",
       "      <th>25</th>\n",
       "      <td>www.akumenius.com 66.249.76.216 - - [23/Feb/20...</td>\n",
       "      <td>www.akumenius.com</td>\n",
       "    </tr>\n",
       "    <tr>\n",
       "      <th>26</th>\n",
       "      <td>www.akumenius.com 66.249.76.216 - - [23/Feb/20...</td>\n",
       "      <td>www.akumenius.com</td>\n",
       "    </tr>\n",
       "    <tr>\n",
       "      <th>...</th>\n",
       "      <td>...</td>\n",
       "      <td>...</td>\n",
       "    </tr>\n",
       "    <tr>\n",
       "      <th>196</th>\n",
       "      <td>www.akumenius.com 66.249.76.216 - - [23/Feb/20...</td>\n",
       "      <td>www.akumenius.com</td>\n",
       "    </tr>\n",
       "    <tr>\n",
       "      <th>197</th>\n",
       "      <td>www.akumenius.com 66.249.76.216 - - [23/Feb/20...</td>\n",
       "      <td>www.akumenius.com</td>\n",
       "    </tr>\n",
       "    <tr>\n",
       "      <th>198</th>\n",
       "      <td>www.akumenius.com 180.76.5.64 - - [23/Feb/2014...</td>\n",
       "      <td>www.akumenius.com</td>\n",
       "    </tr>\n",
       "    <tr>\n",
       "      <th>199</th>\n",
       "      <td>www.akumenius.com 66.249.76.216 - - [23/Feb/20...</td>\n",
       "      <td>www.akumenius.com</td>\n",
       "    </tr>\n",
       "    <tr>\n",
       "      <th>200</th>\n",
       "      <td>www.akumenius.com 180.76.5.31 - - [23/Feb/2014...</td>\n",
       "      <td>www.akumenius.com</td>\n",
       "    </tr>\n",
       "  </tbody>\n",
       "</table>\n",
       "<p>179 rows × 2 columns</p>\n",
       "</div>"
      ],
      "text/plain": [
       "                                                Record            WebPage\n",
       "22   www.akumenius.com 66.249.76.216 - - [23/Feb/20...  www.akumenius.com\n",
       "23   www.akumenius.com 66.249.76.216 - - [23/Feb/20...  www.akumenius.com\n",
       "24   www.akumenius.com 66.249.76.216 - - [23/Feb/20...  www.akumenius.com\n",
       "25   www.akumenius.com 66.249.76.216 - - [23/Feb/20...  www.akumenius.com\n",
       "26   www.akumenius.com 66.249.76.216 - - [23/Feb/20...  www.akumenius.com\n",
       "..                                                 ...                ...\n",
       "196  www.akumenius.com 66.249.76.216 - - [23/Feb/20...  www.akumenius.com\n",
       "197  www.akumenius.com 66.249.76.216 - - [23/Feb/20...  www.akumenius.com\n",
       "198  www.akumenius.com 180.76.5.64 - - [23/Feb/2014...  www.akumenius.com\n",
       "199  www.akumenius.com 66.249.76.216 - - [23/Feb/20...  www.akumenius.com\n",
       "200  www.akumenius.com 180.76.5.31 - - [23/Feb/2014...  www.akumenius.com\n",
       "\n",
       "[179 rows x 2 columns]"
      ]
     },
     "execution_count": 57,
     "metadata": {},
     "output_type": "execute_result"
    }
   ],
   "source": [
    "test_df.rename(columns = {'itemFound': 'WebPage'})"
   ]
  },
  {
   "cell_type": "markdown",
   "metadata": {},
   "source": [
    "#### New column with IP addresses\n",
    "Split the Record line into 3 parts separated by white spaces. The second item would match the IP Adresses."
   ]
  },
  {
   "cell_type": "code",
   "execution_count": 59,
   "metadata": {},
   "outputs": [],
   "source": [
    "serched_list = test_df['Record'].tolist()"
   ]
  },
  {
   "cell_type": "code",
   "execution_count": 60,
   "metadata": {},
   "outputs": [],
   "source": [
    "ipAdresses_list = []\n",
    "\n",
    "for row in serched_list:\n",
    "    list_row = re.split('\\s', row ,2)\n",
    "    ipAdresses_list.append (list_row [1])"
   ]
  },
  {
   "cell_type": "code",
   "execution_count": 62,
   "metadata": {},
   "outputs": [],
   "source": [
    "# Add ipAdresses_List to the the df\n",
    "test_df ['IPAdress'] = ipAdresses_list"
   ]
  },
  {
   "cell_type": "code",
   "execution_count": 63,
   "metadata": {},
   "outputs": [
    {
     "data": {
      "text/html": [
       "<div>\n",
       "<style scoped>\n",
       "    .dataframe tbody tr th:only-of-type {\n",
       "        vertical-align: middle;\n",
       "    }\n",
       "\n",
       "    .dataframe tbody tr th {\n",
       "        vertical-align: top;\n",
       "    }\n",
       "\n",
       "    .dataframe thead th {\n",
       "        text-align: right;\n",
       "    }\n",
       "</style>\n",
       "<table border=\"1\" class=\"dataframe\">\n",
       "  <thead>\n",
       "    <tr style=\"text-align: right;\">\n",
       "      <th></th>\n",
       "      <th>Record</th>\n",
       "      <th>itemFound</th>\n",
       "      <th>IPAdress</th>\n",
       "    </tr>\n",
       "  </thead>\n",
       "  <tbody>\n",
       "    <tr>\n",
       "      <th>22</th>\n",
       "      <td>www.akumenius.com 66.249.76.216 - - [23/Feb/20...</td>\n",
       "      <td>www.akumenius.com</td>\n",
       "      <td>66.249.76.216</td>\n",
       "    </tr>\n",
       "    <tr>\n",
       "      <th>23</th>\n",
       "      <td>www.akumenius.com 66.249.76.216 - - [23/Feb/20...</td>\n",
       "      <td>www.akumenius.com</td>\n",
       "      <td>66.249.76.216</td>\n",
       "    </tr>\n",
       "    <tr>\n",
       "      <th>24</th>\n",
       "      <td>www.akumenius.com 66.249.76.216 - - [23/Feb/20...</td>\n",
       "      <td>www.akumenius.com</td>\n",
       "      <td>66.249.76.216</td>\n",
       "    </tr>\n",
       "    <tr>\n",
       "      <th>25</th>\n",
       "      <td>www.akumenius.com 66.249.76.216 - - [23/Feb/20...</td>\n",
       "      <td>www.akumenius.com</td>\n",
       "      <td>66.249.76.216</td>\n",
       "    </tr>\n",
       "    <tr>\n",
       "      <th>26</th>\n",
       "      <td>www.akumenius.com 66.249.76.216 - - [23/Feb/20...</td>\n",
       "      <td>www.akumenius.com</td>\n",
       "      <td>66.249.76.216</td>\n",
       "    </tr>\n",
       "  </tbody>\n",
       "</table>\n",
       "</div>"
      ],
      "text/plain": [
       "                                               Record          itemFound  \\\n",
       "22  www.akumenius.com 66.249.76.216 - - [23/Feb/20...  www.akumenius.com   \n",
       "23  www.akumenius.com 66.249.76.216 - - [23/Feb/20...  www.akumenius.com   \n",
       "24  www.akumenius.com 66.249.76.216 - - [23/Feb/20...  www.akumenius.com   \n",
       "25  www.akumenius.com 66.249.76.216 - - [23/Feb/20...  www.akumenius.com   \n",
       "26  www.akumenius.com 66.249.76.216 - - [23/Feb/20...  www.akumenius.com   \n",
       "\n",
       "         IPAdress  \n",
       "22  66.249.76.216  \n",
       "23  66.249.76.216  \n",
       "24  66.249.76.216  \n",
       "25  66.249.76.216  \n",
       "26  66.249.76.216  "
      ]
     },
     "execution_count": 63,
     "metadata": {},
     "output_type": "execute_result"
    }
   ],
   "source": [
    "test_df.head()"
   ]
  },
  {
   "cell_type": "code",
   "execution_count": 64,
   "metadata": {},
   "outputs": [],
   "source": [
    "# Make sure all the obtaided values in the IPAdress column have the IP format. IP Adress are a sequence of 4 numbers,\n",
    "# separated by dots '.'\n",
    "\n",
    "ipPattern = '^\\d{1,3}\\.\\d{1,3}\\.\\d{1,3}\\.\\d{1,3}$'\n",
    "\n",
    "serch_pattern (ipPattern, test_df, 'IPAdress')"
   ]
  },
  {
   "cell_type": "code",
   "execution_count": 65,
   "metadata": {},
   "outputs": [
    {
     "data": {
      "text/html": [
       "<div>\n",
       "<style scoped>\n",
       "    .dataframe tbody tr th:only-of-type {\n",
       "        vertical-align: middle;\n",
       "    }\n",
       "\n",
       "    .dataframe tbody tr th {\n",
       "        vertical-align: top;\n",
       "    }\n",
       "\n",
       "    .dataframe thead th {\n",
       "        text-align: right;\n",
       "    }\n",
       "</style>\n",
       "<table border=\"1\" class=\"dataframe\">\n",
       "  <thead>\n",
       "    <tr style=\"text-align: right;\">\n",
       "      <th></th>\n",
       "      <th>Record</th>\n",
       "      <th>itemFound</th>\n",
       "      <th>IPAdress</th>\n",
       "      <th>Result</th>\n",
       "    </tr>\n",
       "  </thead>\n",
       "  <tbody>\n",
       "    <tr>\n",
       "      <th>22</th>\n",
       "      <td>www.akumenius.com 66.249.76.216 - - [23/Feb/20...</td>\n",
       "      <td>66.249.76.216</td>\n",
       "      <td>66.249.76.216</td>\n",
       "      <td>True</td>\n",
       "    </tr>\n",
       "    <tr>\n",
       "      <th>23</th>\n",
       "      <td>www.akumenius.com 66.249.76.216 - - [23/Feb/20...</td>\n",
       "      <td>66.249.76.216</td>\n",
       "      <td>66.249.76.216</td>\n",
       "      <td>True</td>\n",
       "    </tr>\n",
       "    <tr>\n",
       "      <th>24</th>\n",
       "      <td>www.akumenius.com 66.249.76.216 - - [23/Feb/20...</td>\n",
       "      <td>66.249.76.216</td>\n",
       "      <td>66.249.76.216</td>\n",
       "      <td>True</td>\n",
       "    </tr>\n",
       "    <tr>\n",
       "      <th>25</th>\n",
       "      <td>www.akumenius.com 66.249.76.216 - - [23/Feb/20...</td>\n",
       "      <td>66.249.76.216</td>\n",
       "      <td>66.249.76.216</td>\n",
       "      <td>True</td>\n",
       "    </tr>\n",
       "    <tr>\n",
       "      <th>26</th>\n",
       "      <td>www.akumenius.com 66.249.76.216 - - [23/Feb/20...</td>\n",
       "      <td>66.249.76.216</td>\n",
       "      <td>66.249.76.216</td>\n",
       "      <td>True</td>\n",
       "    </tr>\n",
       "  </tbody>\n",
       "</table>\n",
       "</div>"
      ],
      "text/plain": [
       "                                               Record      itemFound  \\\n",
       "22  www.akumenius.com 66.249.76.216 - - [23/Feb/20...  66.249.76.216   \n",
       "23  www.akumenius.com 66.249.76.216 - - [23/Feb/20...  66.249.76.216   \n",
       "24  www.akumenius.com 66.249.76.216 - - [23/Feb/20...  66.249.76.216   \n",
       "25  www.akumenius.com 66.249.76.216 - - [23/Feb/20...  66.249.76.216   \n",
       "26  www.akumenius.com 66.249.76.216 - - [23/Feb/20...  66.249.76.216   \n",
       "\n",
       "         IPAdress  Result  \n",
       "22  66.249.76.216    True  \n",
       "23  66.249.76.216    True  \n",
       "24  66.249.76.216    True  \n",
       "25  66.249.76.216    True  \n",
       "26  66.249.76.216    True  "
      ]
     },
     "execution_count": 65,
     "metadata": {},
     "output_type": "execute_result"
    }
   ],
   "source": [
    "test_df.head()"
   ]
  },
  {
   "cell_type": "code",
   "execution_count": 73,
   "metadata": {},
   "outputs": [],
   "source": [
    "# Eliminate rows with iligal IP Adress\n",
    "\n",
    "test_df.drop(test_df.loc[test_df['Result']== False].index, inplace=True)\n"
   ]
  },
  {
   "cell_type": "code",
   "execution_count": 74,
   "metadata": {},
   "outputs": [],
   "source": [
    "test_df.drop(columns = ['Result','itemFound'], inplace = True)"
   ]
  },
  {
   "cell_type": "markdown",
   "metadata": {},
   "source": [
    "#### To separate date from each row"
   ]
  },
  {
   "cell_type": "code",
   "execution_count": 77,
   "metadata": {},
   "outputs": [],
   "source": [
    "date_list = []\n",
    "\n",
    "for string in serched_list:\n",
    "    date_start_position = string.find('[')\n",
    "    date_end_position = string.find(']')\n",
    "    date_string = string[date_start_position+1:date_end_position]\n",
    "    date_list.append(date_string)"
   ]
  },
  {
   "cell_type": "code",
   "execution_count": 78,
   "metadata": {},
   "outputs": [
    {
     "data": {
      "text/plain": [
       "['23/Feb/2014:03:10:31 +0100',\n",
       " '23/Feb/2014:03:10:33 +0100',\n",
       " '23/Feb/2014:03:10:35 +0100',\n",
       " '23/Feb/2014:03:10:38 +0100',\n",
       " '23/Feb/2014:03:10:39 +0100',\n",
       " '23/Feb/2014:03:10:40 +0100',\n",
       " '23/Feb/2014:03:10:42 +0100',\n",
       " '23/Feb/2014:03:10:45 +0100',\n",
       " '23/Feb/2014:03:10:46 +0100',\n",
       " '23/Feb/2014:03:10:47 +0100',\n",
       " '23/Feb/2014:03:10:49 +0100',\n",
       " '23/Feb/2014:03:10:52 +0100',\n",
       " '23/Feb/2014:03:10:53 +0100',\n",
       " '23/Feb/2014:03:10:54 +0100',\n",
       " '23/Feb/2014:03:10:56 +0100',\n",
       " '23/Feb/2014:03:10:56 +0100',\n",
       " '23/Feb/2014:03:10:59 +0100',\n",
       " '23/Feb/2014:03:11:01 +0100',\n",
       " '23/Feb/2014:03:11:01 +0100',\n",
       " '23/Feb/2014:03:11:02 +0100',\n",
       " '23/Feb/2014:03:11:03 +0100',\n",
       " '23/Feb/2014:03:11:06 +0100',\n",
       " '23/Feb/2014:03:11:07 +0100',\n",
       " '23/Feb/2014:03:11:08 +0100',\n",
       " '23/Feb/2014:03:11:09 +0100',\n",
       " '23/Feb/2014:03:11:10 +0100',\n",
       " '23/Feb/2014:03:11:13 +0100',\n",
       " '23/Feb/2014:03:11:14 +0100',\n",
       " '23/Feb/2014:03:11:15 +0100',\n",
       " '23/Feb/2014:03:11:16 +0100',\n",
       " '23/Feb/2014:03:11:17 +0100',\n",
       " '23/Feb/2014:03:11:20 +0100',\n",
       " '23/Feb/2014:03:11:22 +0100',\n",
       " '23/Feb/2014:03:11:23 +0100',\n",
       " '23/Feb/2014:03:11:25 +0100',\n",
       " '23/Feb/2014:03:11:27 +0100',\n",
       " '23/Feb/2014:03:11:27 +0100',\n",
       " '23/Feb/2014:03:11:29 +0100',\n",
       " '23/Feb/2014:03:11:31 +0100',\n",
       " '23/Feb/2014:03:11:32 +0100',\n",
       " '23/Feb/2014:03:11:34 +0100',\n",
       " '23/Feb/2014:03:11:36 +0100',\n",
       " '23/Feb/2014:03:11:38 +0100',\n",
       " '23/Feb/2014:03:11:39 +0100',\n",
       " '23/Feb/2014:03:11:41 +0100',\n",
       " '23/Feb/2014:03:11:43 +0100',\n",
       " '23/Feb/2014:03:11:44 +0100',\n",
       " '23/Feb/2014:03:11:45 +0100',\n",
       " '23/Feb/2014:03:11:46 +0100',\n",
       " '23/Feb/2014:03:11:46 +0100',\n",
       " '23/Feb/2014:03:12:00 +0100',\n",
       " '23/Feb/2014:03:12:08 +0100',\n",
       " '23/Feb/2014:03:12:16 +0100',\n",
       " '23/Feb/2014:03:12:20 +0100',\n",
       " '23/Feb/2014:03:11:47 +0100',\n",
       " '23/Feb/2014:03:12:22 +0100',\n",
       " '23/Feb/2014:03:12:23 +0100',\n",
       " '23/Feb/2014:03:12:23 +0100',\n",
       " '23/Feb/2014:03:12:24 +0100',\n",
       " '23/Feb/2014:03:12:25 +0100',\n",
       " '23/Feb/2014:03:12:26 +0100',\n",
       " '23/Feb/2014:03:12:27 +0100',\n",
       " '23/Feb/2014:03:12:27 +0100',\n",
       " '23/Feb/2014:03:12:28 +0100',\n",
       " '23/Feb/2014:03:12:29 +0100',\n",
       " '23/Feb/2014:03:12:30 +0100',\n",
       " '23/Feb/2014:03:12:31 +0100',\n",
       " '23/Feb/2014:03:12:32 +0100',\n",
       " '23/Feb/2014:03:12:32 +0100',\n",
       " '23/Feb/2014:03:12:33 +0100',\n",
       " '23/Feb/2014:03:12:34 +0100',\n",
       " '23/Feb/2014:03:12:35 +0100',\n",
       " '23/Feb/2014:03:12:36 +0100',\n",
       " '23/Feb/2014:03:12:36 +0100',\n",
       " '23/Feb/2014:03:12:37 +0100',\n",
       " '23/Feb/2014:03:12:38 +0100',\n",
       " '23/Feb/2014:03:12:39 +0100',\n",
       " '23/Feb/2014:03:12:40 +0100',\n",
       " '23/Feb/2014:03:12:40 +0100',\n",
       " '23/Feb/2014:03:12:41 +0100',\n",
       " '23/Feb/2014:03:12:42 +0100',\n",
       " '23/Feb/2014:03:12:43 +0100',\n",
       " '23/Feb/2014:03:12:43 +0100',\n",
       " '23/Feb/2014:03:12:44 +0100',\n",
       " '23/Feb/2014:03:12:44 +0100',\n",
       " '23/Feb/2014:03:12:45 +0100',\n",
       " '23/Feb/2014:03:12:46 +0100',\n",
       " '23/Feb/2014:03:12:46 +0100',\n",
       " '23/Feb/2014:03:12:47 +0100',\n",
       " '23/Feb/2014:03:12:48 +0100',\n",
       " '23/Feb/2014:03:12:49 +0100',\n",
       " '23/Feb/2014:03:12:49 +0100',\n",
       " '23/Feb/2014:03:12:50 +0100',\n",
       " '23/Feb/2014:03:12:51 +0100',\n",
       " '23/Feb/2014:03:12:52 +0100',\n",
       " '23/Feb/2014:03:12:52 +0100',\n",
       " '23/Feb/2014:03:12:54 +0100',\n",
       " '23/Feb/2014:03:12:54 +0100',\n",
       " '23/Feb/2014:03:12:56 +0100',\n",
       " '23/Feb/2014:03:12:59 +0100',\n",
       " '23/Feb/2014:03:12:59 +0100',\n",
       " '23/Feb/2014:03:13:01 +0100',\n",
       " '23/Feb/2014:03:13:02 +0100',\n",
       " '23/Feb/2014:03:13:03 +0100',\n",
       " '23/Feb/2014:03:13:06 +0100',\n",
       " '23/Feb/2014:03:13:06 +0100',\n",
       " '23/Feb/2014:03:13:07 +0100',\n",
       " '23/Feb/2014:03:13:08 +0100',\n",
       " '23/Feb/2014:03:13:10 +0100',\n",
       " '23/Feb/2014:03:13:11 +0100',\n",
       " '23/Feb/2014:03:13:11 +0100',\n",
       " '23/Feb/2014:03:13:11 +0100',\n",
       " '23/Feb/2014:03:13:14 +0100',\n",
       " '23/Feb/2014:03:13:15 +0100',\n",
       " '23/Feb/2014:03:13:18 +0100',\n",
       " '23/Feb/2014:03:13:20 +0100',\n",
       " '23/Feb/2014:03:13:22 +0100',\n",
       " '23/Feb/2014:03:13:22 +0100',\n",
       " '23/Feb/2014:03:13:25 +0100',\n",
       " '23/Feb/2014:03:13:27 +0100',\n",
       " '23/Feb/2014:03:13:29 +0100',\n",
       " '23/Feb/2014:03:13:29 +0100',\n",
       " '23/Feb/2014:03:13:30 +0100',\n",
       " '23/Feb/2014:03:13:32 +0100',\n",
       " '23/Feb/2014:03:13:34 +0100',\n",
       " '23/Feb/2014:03:13:36 +0100',\n",
       " '23/Feb/2014:03:13:37 +0100',\n",
       " '23/Feb/2014:03:13:38 +0100',\n",
       " '23/Feb/2014:03:13:39 +0100',\n",
       " '23/Feb/2014:03:13:41 +0100',\n",
       " '23/Feb/2014:03:13:43 +0100',\n",
       " '23/Feb/2014:03:13:44 +0100',\n",
       " '23/Feb/2014:03:13:46 +0100',\n",
       " '23/Feb/2014:03:13:48 +0100',\n",
       " '23/Feb/2014:03:13:50 +0100',\n",
       " '23/Feb/2014:03:13:51 +0100',\n",
       " '23/Feb/2014:03:13:53 +0100',\n",
       " '23/Feb/2014:03:13:55 +0100',\n",
       " '23/Feb/2014:03:13:57 +0100',\n",
       " '23/Feb/2014:03:13:59 +0100',\n",
       " '23/Feb/2014:03:14:00 +0100',\n",
       " '23/Feb/2014:03:14:02 +0100',\n",
       " '23/Feb/2014:03:14:05 +0100',\n",
       " '23/Feb/2014:03:14:06 +0100',\n",
       " '23/Feb/2014:03:14:07 +0100',\n",
       " '23/Feb/2014:03:14:09 +0100',\n",
       " '23/Feb/2014:03:14:12 +0100',\n",
       " '23/Feb/2014:03:14:14 +0100',\n",
       " '23/Feb/2014:03:14:14 +0100',\n",
       " '23/Feb/2014:03:14:16 +0100',\n",
       " '23/Feb/2014:03:14:19 +0100',\n",
       " '23/Feb/2014:03:14:21 +0100',\n",
       " '23/Feb/2014:03:14:21 +0100',\n",
       " '23/Feb/2014:03:14:22 +0100',\n",
       " '23/Feb/2014:03:14:23 +0100',\n",
       " '23/Feb/2014:03:14:26 +0100',\n",
       " '23/Feb/2014:03:14:28 +0100',\n",
       " '23/Feb/2014:03:14:29 +0100',\n",
       " '23/Feb/2014:03:14:30 +0100',\n",
       " '23/Feb/2014:03:14:33 +0100',\n",
       " '23/Feb/2014:03:14:35 +0100',\n",
       " '23/Feb/2014:03:14:36 +0100',\n",
       " '23/Feb/2014:03:14:37 +0100',\n",
       " '23/Feb/2014:03:14:38 +0100',\n",
       " '23/Feb/2014:03:14:40 +0100',\n",
       " '23/Feb/2014:03:14:42 +0100',\n",
       " '23/Feb/2014:03:14:43 +0100',\n",
       " '23/Feb/2014:03:14:45 +0100',\n",
       " '23/Feb/2014:03:14:47 +0100',\n",
       " '23/Feb/2014:03:14:49 +0100',\n",
       " '23/Feb/2014:03:14:51 +0100',\n",
       " '23/Feb/2014:03:14:52 +0100',\n",
       " '23/Feb/2014:03:14:54 +0100',\n",
       " '23/Feb/2014:03:14:56 +0100',\n",
       " '23/Feb/2014:03:14:58 +0100',\n",
       " '23/Feb/2014:03:14:59 +0100',\n",
       " '23/Feb/2014:03:14:59 +0100',\n",
       " '23/Feb/2014:03:15:01 +0100',\n",
       " '23/Feb/2014:03:15:03 +0100']"
      ]
     },
     "execution_count": 78,
     "metadata": {},
     "output_type": "execute_result"
    }
   ],
   "source": [
    "date_list"
   ]
  },
  {
   "cell_type": "code",
   "execution_count": null,
   "metadata": {},
   "outputs": [],
   "source": []
  },
  {
   "cell_type": "code",
   "execution_count": null,
   "metadata": {},
   "outputs": [],
   "source": []
  },
  {
   "cell_type": "code",
   "execution_count": null,
   "metadata": {},
   "outputs": [],
   "source": [
    "# Delete rows starting with 'localhost', as they don`t bring any usefull information\n",
    "\n",
    "test_df = log_df[log_df['Record'].astype(str).str.startswith ('localhost') == True]\n",
    "\n",
    "\n",
    "list_record = test_df['Record'].tolist()\n",
    "\n",
    "print(list_record)"
   ]
  },
  {
   "cell_type": "code",
   "execution_count": null,
   "metadata": {},
   "outputs": [],
   "source": [
    "# The structure of the line starts with the web page, folowed by 1 white space, IP Address and 1 white space more. \n",
    "\n",
    "record_list = []\n",
    "for row in list_record:\n",
    "    list_row = re.split('\\s', row ,2)\n",
    "    record_list.append (list_row)\n"
   ]
  },
  {
   "cell_type": "code",
   "execution_count": null,
   "metadata": {},
   "outputs": [],
   "source": [
    "# We start building a new DF with usefull and preprocessed columns\n",
    "webpage = []\n",
    "IPAddress = []\n",
    "\n",
    "for i in range (len (record_list)):\n",
    "    wp = record_list [i][0]\n",
    "    ip = record_list [i][1]\n",
    "    webpage.append (wp)\n",
    "    IPAddress.append (ip)\n",
    "    "
   ]
  },
  {
   "cell_type": "code",
   "execution_count": null,
   "metadata": {},
   "outputs": [],
   "source": [
    "useful_df = pd.DataFrame ({'webpage': webpage,\n",
    "                           'IPAddress': IPAddress})"
   ]
  },
  {
   "cell_type": "code",
   "execution_count": null,
   "metadata": {},
   "outputs": [],
   "source": [
    "useful_df.head(50)"
   ]
  },
  {
   "cell_type": "code",
   "execution_count": null,
   "metadata": {},
   "outputs": [],
   "source": []
  }
 ],
 "metadata": {
  "kernelspec": {
   "display_name": "Python 3",
   "language": "python",
   "name": "python3"
  },
  "language_info": {
   "codemirror_mode": {
    "name": "ipython",
    "version": 3
   },
   "file_extension": ".py",
   "mimetype": "text/x-python",
   "name": "python",
   "nbconvert_exporter": "python",
   "pygments_lexer": "ipython3",
   "version": "3.8.3"
  }
 },
 "nbformat": 4,
 "nbformat_minor": 4
}
