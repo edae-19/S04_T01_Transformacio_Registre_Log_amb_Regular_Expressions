{
 "cells": [
  {
   "cell_type": "markdown",
   "metadata": {},
   "source": [
    "# S04 T01: Transformació Registre Log amb Regular expressions\n",
    "\n",
    "#### David Arroyo"
   ]
  },
  {
   "cell_type": "code",
   "execution_count": 1,
   "metadata": {},
   "outputs": [],
   "source": [
    "import pandas as pd\n",
    "import re\n",
    "import matplotlib.pyplot as plt\n",
    "import seaborn as sns\n",
    "from datetime import datetime\n",
    "import math\n",
    "from ip2geotools.databases.noncommercial import DbIpCity"
   ]
  },
  {
   "cell_type": "code",
   "execution_count": 2,
   "metadata": {},
   "outputs": [],
   "source": [
    "with open ('Datos\\Web_access_log-akumenius.com.txt', 'r') as file:\n",
    "    lines_list = []\n",
    "    for line in file:\n",
    "        line_string = line.strip()\n",
    "        lines_list.append(line_string)"
   ]
  },
  {
   "cell_type": "code",
   "execution_count": 3,
   "metadata": {},
   "outputs": [],
   "source": [
    "log_df = pd.DataFrame([lines_list]).T"
   ]
  },
  {
   "cell_type": "code",
   "execution_count": 4,
   "metadata": {},
   "outputs": [
    {
     "data": {
      "text/plain": [
       "(261873, 1)"
      ]
     },
     "execution_count": 4,
     "metadata": {},
     "output_type": "execute_result"
    }
   ],
   "source": [
    "log_df.shape"
   ]
  },
  {
   "cell_type": "code",
   "execution_count": 5,
   "metadata": {},
   "outputs": [],
   "source": [
    "log_df.rename(columns = {0:'Record'}, inplace = True)"
   ]
  },
  {
   "cell_type": "code",
   "execution_count": 6,
   "metadata": {},
   "outputs": [
    {
     "name": "stdout",
     "output_type": "stream",
     "text": [
      "<class 'pandas.core.frame.DataFrame'>\n",
      "RangeIndex: 261873 entries, 0 to 261872\n",
      "Data columns (total 1 columns):\n",
      " #   Column  Non-Null Count   Dtype \n",
      "---  ------  --------------   ----- \n",
      " 0   Record  261873 non-null  object\n",
      "dtypes: object(1)\n",
      "memory usage: 2.0+ MB\n"
     ]
    }
   ],
   "source": [
    "log_df.info()"
   ]
  },
  {
   "cell_type": "code",
   "execution_count": 7,
   "metadata": {},
   "outputs": [],
   "source": [
    "'''\n",
    "Function to verify weather a pattern is found in a column of a data frame. \n",
    "\n",
    "Inputs: \n",
    "patern:  Regular expression in a string format\n",
    "df: Dataframe to be used\n",
    "column: Name of the column where we want to perform the search\n",
    "\n",
    "Outputs:\n",
    "Added column named 'Result'. Boolean, True or False \n",
    "Added column named 'itemFound'. Item found or None, in case no item matches the pattern\n",
    "Added column named 'matchStart'. Starting position of the string matched or None, in case no item matches the pattern\n",
    "Added column named 'matchEnd'. Ending position of the string matched or None, in case no item matches the pattern\n",
    "\n",
    "'''\n",
    "\n",
    "def serch_pattern (pattern, df, column):\n",
    "    \n",
    "    serched_list = df[column].tolist()\n",
    "    result_list = []\n",
    "    serched_item_list = []\n",
    "    match_start_list = []\n",
    "    match_end_list = []\n",
    "\n",
    "    for string in serched_list:\n",
    "        serched_item = re.search(pattern, string)\n",
    "        \n",
    "        if serched_item:\n",
    "            result_list.append (True)\n",
    "            serched_item_list.append(serched_item.group(0))\n",
    "            match_start_list.append (serched_item.start())\n",
    "            match_end_list.append (serched_item.end())\n",
    "        else:\n",
    "            result_list.append (False)\n",
    "            serched_item_list.append(None) \n",
    "            match_start_list.append (None)\n",
    "            match_end_list.append (None)\n",
    "    \n",
    "    df['Result'] = result_list\n",
    "    df['itemFound'] = serched_item_list\n",
    "    df['matchStart'] = match_start_list\n",
    "    df['matchEnd'] = match_end_list\n",
    "         "
   ]
  },
  {
   "cell_type": "code",
   "execution_count": 8,
   "metadata": {},
   "outputs": [],
   "source": [
    "# Test df to validate the different metodologies used to clean and transform the final DF\n",
    "\n",
    "test_df = log_df.loc[:1000, 'Record'].to_frame()\n"
   ]
  },
  {
   "cell_type": "code",
   "execution_count": 9,
   "metadata": {},
   "outputs": [
    {
     "data": {
      "text/html": [
       "<div>\n",
       "<style scoped>\n",
       "    .dataframe tbody tr th:only-of-type {\n",
       "        vertical-align: middle;\n",
       "    }\n",
       "\n",
       "    .dataframe tbody tr th {\n",
       "        vertical-align: top;\n",
       "    }\n",
       "\n",
       "    .dataframe thead th {\n",
       "        text-align: right;\n",
       "    }\n",
       "</style>\n",
       "<table border=\"1\" class=\"dataframe\">\n",
       "  <thead>\n",
       "    <tr style=\"text-align: right;\">\n",
       "      <th></th>\n",
       "      <th>Record</th>\n",
       "    </tr>\n",
       "  </thead>\n",
       "  <tbody>\n",
       "    <tr>\n",
       "      <th>0</th>\n",
       "      <td>localhost 127.0.0.1 - - [23/Feb/2014:03:10:31 ...</td>\n",
       "    </tr>\n",
       "    <tr>\n",
       "      <th>1</th>\n",
       "      <td>localhost 127.0.0.1 - - [23/Feb/2014:03:10:31 ...</td>\n",
       "    </tr>\n",
       "    <tr>\n",
       "      <th>2</th>\n",
       "      <td>localhost 127.0.0.1 - - [23/Feb/2014:03:10:31 ...</td>\n",
       "    </tr>\n",
       "    <tr>\n",
       "      <th>3</th>\n",
       "      <td>localhost 127.0.0.1 - - [23/Feb/2014:03:10:31 ...</td>\n",
       "    </tr>\n",
       "    <tr>\n",
       "      <th>4</th>\n",
       "      <td>localhost 127.0.0.1 - - [23/Feb/2014:03:10:31 ...</td>\n",
       "    </tr>\n",
       "  </tbody>\n",
       "</table>\n",
       "</div>"
      ],
      "text/plain": [
       "                                              Record\n",
       "0  localhost 127.0.0.1 - - [23/Feb/2014:03:10:31 ...\n",
       "1  localhost 127.0.0.1 - - [23/Feb/2014:03:10:31 ...\n",
       "2  localhost 127.0.0.1 - - [23/Feb/2014:03:10:31 ...\n",
       "3  localhost 127.0.0.1 - - [23/Feb/2014:03:10:31 ...\n",
       "4  localhost 127.0.0.1 - - [23/Feb/2014:03:10:31 ..."
      ]
     },
     "execution_count": 9,
     "metadata": {},
     "output_type": "execute_result"
    }
   ],
   "source": [
    "test_df.head()"
   ]
  },
  {
   "cell_type": "markdown",
   "metadata": {},
   "source": [
    "#### Eliminate rows not starting with a web page pattern"
   ]
  },
  {
   "cell_type": "code",
   "execution_count": 10,
   "metadata": {},
   "outputs": [],
   "source": [
    "web_pattern = '^([a-z0-9][a-z0-9\\-]*\\.)+([a-z0-9][a-z0-9\\-]*)'"
   ]
  },
  {
   "cell_type": "code",
   "execution_count": 11,
   "metadata": {},
   "outputs": [],
   "source": [
    "serch_pattern (web_pattern,test_df,'Record')"
   ]
  },
  {
   "cell_type": "code",
   "execution_count": 12,
   "metadata": {},
   "outputs": [],
   "source": [
    "test_df.drop(test_df.loc[test_df['Result']== False].index, inplace=True)"
   ]
  },
  {
   "cell_type": "code",
   "execution_count": 13,
   "metadata": {},
   "outputs": [
    {
     "data": {
      "text/html": [
       "<div>\n",
       "<style scoped>\n",
       "    .dataframe tbody tr th:only-of-type {\n",
       "        vertical-align: middle;\n",
       "    }\n",
       "\n",
       "    .dataframe tbody tr th {\n",
       "        vertical-align: top;\n",
       "    }\n",
       "\n",
       "    .dataframe thead th {\n",
       "        text-align: right;\n",
       "    }\n",
       "</style>\n",
       "<table border=\"1\" class=\"dataframe\">\n",
       "  <thead>\n",
       "    <tr style=\"text-align: right;\">\n",
       "      <th></th>\n",
       "      <th>Record</th>\n",
       "      <th>Result</th>\n",
       "      <th>itemFound</th>\n",
       "      <th>matchStart</th>\n",
       "      <th>matchEnd</th>\n",
       "    </tr>\n",
       "  </thead>\n",
       "  <tbody>\n",
       "    <tr>\n",
       "      <th>22</th>\n",
       "      <td>www.akumenius.com 66.249.76.216 - - [23/Feb/20...</td>\n",
       "      <td>True</td>\n",
       "      <td>www.akumenius.com</td>\n",
       "      <td>0.0</td>\n",
       "      <td>17.0</td>\n",
       "    </tr>\n",
       "    <tr>\n",
       "      <th>23</th>\n",
       "      <td>www.akumenius.com 66.249.76.216 - - [23/Feb/20...</td>\n",
       "      <td>True</td>\n",
       "      <td>www.akumenius.com</td>\n",
       "      <td>0.0</td>\n",
       "      <td>17.0</td>\n",
       "    </tr>\n",
       "    <tr>\n",
       "      <th>24</th>\n",
       "      <td>www.akumenius.com 66.249.76.216 - - [23/Feb/20...</td>\n",
       "      <td>True</td>\n",
       "      <td>www.akumenius.com</td>\n",
       "      <td>0.0</td>\n",
       "      <td>17.0</td>\n",
       "    </tr>\n",
       "    <tr>\n",
       "      <th>25</th>\n",
       "      <td>www.akumenius.com 66.249.76.216 - - [23/Feb/20...</td>\n",
       "      <td>True</td>\n",
       "      <td>www.akumenius.com</td>\n",
       "      <td>0.0</td>\n",
       "      <td>17.0</td>\n",
       "    </tr>\n",
       "    <tr>\n",
       "      <th>26</th>\n",
       "      <td>www.akumenius.com 66.249.76.216 - - [23/Feb/20...</td>\n",
       "      <td>True</td>\n",
       "      <td>www.akumenius.com</td>\n",
       "      <td>0.0</td>\n",
       "      <td>17.0</td>\n",
       "    </tr>\n",
       "  </tbody>\n",
       "</table>\n",
       "</div>"
      ],
      "text/plain": [
       "                                               Record  Result  \\\n",
       "22  www.akumenius.com 66.249.76.216 - - [23/Feb/20...    True   \n",
       "23  www.akumenius.com 66.249.76.216 - - [23/Feb/20...    True   \n",
       "24  www.akumenius.com 66.249.76.216 - - [23/Feb/20...    True   \n",
       "25  www.akumenius.com 66.249.76.216 - - [23/Feb/20...    True   \n",
       "26  www.akumenius.com 66.249.76.216 - - [23/Feb/20...    True   \n",
       "\n",
       "            itemFound  matchStart  matchEnd  \n",
       "22  www.akumenius.com         0.0      17.0  \n",
       "23  www.akumenius.com         0.0      17.0  \n",
       "24  www.akumenius.com         0.0      17.0  \n",
       "25  www.akumenius.com         0.0      17.0  \n",
       "26  www.akumenius.com         0.0      17.0  "
      ]
     },
     "execution_count": 13,
     "metadata": {},
     "output_type": "execute_result"
    }
   ],
   "source": [
    "test_df.head()"
   ]
  },
  {
   "cell_type": "markdown",
   "metadata": {},
   "source": [
    "#### Eliminate not usefull columns and Rename 'itemFound' Column\n"
   ]
  },
  {
   "cell_type": "code",
   "execution_count": 14,
   "metadata": {},
   "outputs": [],
   "source": [
    "test_df.drop(columns = ['Result', 'matchStart', 'matchEnd'], inplace = True)"
   ]
  },
  {
   "cell_type": "code",
   "execution_count": 15,
   "metadata": {},
   "outputs": [],
   "source": [
    "test_df.rename(columns = {'itemFound': 'WebPage'}, inplace = True)"
   ]
  },
  {
   "cell_type": "markdown",
   "metadata": {},
   "source": [
    "#### New column with IP addresses\n",
    "Split the Record line into 3 parts separated by white spaces. The second item would match the IP Adresses."
   ]
  },
  {
   "cell_type": "code",
   "execution_count": 16,
   "metadata": {},
   "outputs": [],
   "source": [
    "serched_list = test_df['Record'].tolist()"
   ]
  },
  {
   "cell_type": "code",
   "execution_count": 17,
   "metadata": {},
   "outputs": [],
   "source": [
    "ipAdresses_list = []\n",
    "\n",
    "for row in serched_list:\n",
    "    list_row = re.split('\\s', row ,2)\n",
    "    ipAdresses_list.append (list_row [1])"
   ]
  },
  {
   "cell_type": "code",
   "execution_count": 18,
   "metadata": {},
   "outputs": [],
   "source": [
    "# Add ipAdresses_List to the the df\n",
    "test_df ['IPAdress'] = ipAdresses_list"
   ]
  },
  {
   "cell_type": "code",
   "execution_count": 19,
   "metadata": {},
   "outputs": [
    {
     "data": {
      "text/html": [
       "<div>\n",
       "<style scoped>\n",
       "    .dataframe tbody tr th:only-of-type {\n",
       "        vertical-align: middle;\n",
       "    }\n",
       "\n",
       "    .dataframe tbody tr th {\n",
       "        vertical-align: top;\n",
       "    }\n",
       "\n",
       "    .dataframe thead th {\n",
       "        text-align: right;\n",
       "    }\n",
       "</style>\n",
       "<table border=\"1\" class=\"dataframe\">\n",
       "  <thead>\n",
       "    <tr style=\"text-align: right;\">\n",
       "      <th></th>\n",
       "      <th>Record</th>\n",
       "      <th>WebPage</th>\n",
       "      <th>IPAdress</th>\n",
       "    </tr>\n",
       "  </thead>\n",
       "  <tbody>\n",
       "    <tr>\n",
       "      <th>22</th>\n",
       "      <td>www.akumenius.com 66.249.76.216 - - [23/Feb/20...</td>\n",
       "      <td>www.akumenius.com</td>\n",
       "      <td>66.249.76.216</td>\n",
       "    </tr>\n",
       "    <tr>\n",
       "      <th>23</th>\n",
       "      <td>www.akumenius.com 66.249.76.216 - - [23/Feb/20...</td>\n",
       "      <td>www.akumenius.com</td>\n",
       "      <td>66.249.76.216</td>\n",
       "    </tr>\n",
       "    <tr>\n",
       "      <th>24</th>\n",
       "      <td>www.akumenius.com 66.249.76.216 - - [23/Feb/20...</td>\n",
       "      <td>www.akumenius.com</td>\n",
       "      <td>66.249.76.216</td>\n",
       "    </tr>\n",
       "    <tr>\n",
       "      <th>25</th>\n",
       "      <td>www.akumenius.com 66.249.76.216 - - [23/Feb/20...</td>\n",
       "      <td>www.akumenius.com</td>\n",
       "      <td>66.249.76.216</td>\n",
       "    </tr>\n",
       "    <tr>\n",
       "      <th>26</th>\n",
       "      <td>www.akumenius.com 66.249.76.216 - - [23/Feb/20...</td>\n",
       "      <td>www.akumenius.com</td>\n",
       "      <td>66.249.76.216</td>\n",
       "    </tr>\n",
       "  </tbody>\n",
       "</table>\n",
       "</div>"
      ],
      "text/plain": [
       "                                               Record            WebPage  \\\n",
       "22  www.akumenius.com 66.249.76.216 - - [23/Feb/20...  www.akumenius.com   \n",
       "23  www.akumenius.com 66.249.76.216 - - [23/Feb/20...  www.akumenius.com   \n",
       "24  www.akumenius.com 66.249.76.216 - - [23/Feb/20...  www.akumenius.com   \n",
       "25  www.akumenius.com 66.249.76.216 - - [23/Feb/20...  www.akumenius.com   \n",
       "26  www.akumenius.com 66.249.76.216 - - [23/Feb/20...  www.akumenius.com   \n",
       "\n",
       "         IPAdress  \n",
       "22  66.249.76.216  \n",
       "23  66.249.76.216  \n",
       "24  66.249.76.216  \n",
       "25  66.249.76.216  \n",
       "26  66.249.76.216  "
      ]
     },
     "execution_count": 19,
     "metadata": {},
     "output_type": "execute_result"
    }
   ],
   "source": [
    "test_df.head()"
   ]
  },
  {
   "cell_type": "code",
   "execution_count": 20,
   "metadata": {},
   "outputs": [],
   "source": [
    "# Make sure all the obtaided values in the IPAdress column have the IP format. IP Adress are a sequence of 4 numbers,\n",
    "# separated by dots '.'\n",
    "\n",
    "ipPattern = '^\\d{1,3}\\.\\d{1,3}\\.\\d{1,3}\\.\\d{1,3}$'\n",
    "\n",
    "serch_pattern (ipPattern, test_df, 'IPAdress')"
   ]
  },
  {
   "cell_type": "code",
   "execution_count": 21,
   "metadata": {},
   "outputs": [
    {
     "data": {
      "text/html": [
       "<div>\n",
       "<style scoped>\n",
       "    .dataframe tbody tr th:only-of-type {\n",
       "        vertical-align: middle;\n",
       "    }\n",
       "\n",
       "    .dataframe tbody tr th {\n",
       "        vertical-align: top;\n",
       "    }\n",
       "\n",
       "    .dataframe thead th {\n",
       "        text-align: right;\n",
       "    }\n",
       "</style>\n",
       "<table border=\"1\" class=\"dataframe\">\n",
       "  <thead>\n",
       "    <tr style=\"text-align: right;\">\n",
       "      <th></th>\n",
       "      <th>Record</th>\n",
       "      <th>WebPage</th>\n",
       "      <th>IPAdress</th>\n",
       "      <th>Result</th>\n",
       "      <th>itemFound</th>\n",
       "      <th>matchStart</th>\n",
       "      <th>matchEnd</th>\n",
       "    </tr>\n",
       "  </thead>\n",
       "  <tbody>\n",
       "    <tr>\n",
       "      <th>22</th>\n",
       "      <td>www.akumenius.com 66.249.76.216 - - [23/Feb/20...</td>\n",
       "      <td>www.akumenius.com</td>\n",
       "      <td>66.249.76.216</td>\n",
       "      <td>True</td>\n",
       "      <td>66.249.76.216</td>\n",
       "      <td>0</td>\n",
       "      <td>13</td>\n",
       "    </tr>\n",
       "    <tr>\n",
       "      <th>23</th>\n",
       "      <td>www.akumenius.com 66.249.76.216 - - [23/Feb/20...</td>\n",
       "      <td>www.akumenius.com</td>\n",
       "      <td>66.249.76.216</td>\n",
       "      <td>True</td>\n",
       "      <td>66.249.76.216</td>\n",
       "      <td>0</td>\n",
       "      <td>13</td>\n",
       "    </tr>\n",
       "    <tr>\n",
       "      <th>24</th>\n",
       "      <td>www.akumenius.com 66.249.76.216 - - [23/Feb/20...</td>\n",
       "      <td>www.akumenius.com</td>\n",
       "      <td>66.249.76.216</td>\n",
       "      <td>True</td>\n",
       "      <td>66.249.76.216</td>\n",
       "      <td>0</td>\n",
       "      <td>13</td>\n",
       "    </tr>\n",
       "    <tr>\n",
       "      <th>25</th>\n",
       "      <td>www.akumenius.com 66.249.76.216 - - [23/Feb/20...</td>\n",
       "      <td>www.akumenius.com</td>\n",
       "      <td>66.249.76.216</td>\n",
       "      <td>True</td>\n",
       "      <td>66.249.76.216</td>\n",
       "      <td>0</td>\n",
       "      <td>13</td>\n",
       "    </tr>\n",
       "    <tr>\n",
       "      <th>26</th>\n",
       "      <td>www.akumenius.com 66.249.76.216 - - [23/Feb/20...</td>\n",
       "      <td>www.akumenius.com</td>\n",
       "      <td>66.249.76.216</td>\n",
       "      <td>True</td>\n",
       "      <td>66.249.76.216</td>\n",
       "      <td>0</td>\n",
       "      <td>13</td>\n",
       "    </tr>\n",
       "  </tbody>\n",
       "</table>\n",
       "</div>"
      ],
      "text/plain": [
       "                                               Record            WebPage  \\\n",
       "22  www.akumenius.com 66.249.76.216 - - [23/Feb/20...  www.akumenius.com   \n",
       "23  www.akumenius.com 66.249.76.216 - - [23/Feb/20...  www.akumenius.com   \n",
       "24  www.akumenius.com 66.249.76.216 - - [23/Feb/20...  www.akumenius.com   \n",
       "25  www.akumenius.com 66.249.76.216 - - [23/Feb/20...  www.akumenius.com   \n",
       "26  www.akumenius.com 66.249.76.216 - - [23/Feb/20...  www.akumenius.com   \n",
       "\n",
       "         IPAdress  Result      itemFound  matchStart  matchEnd  \n",
       "22  66.249.76.216    True  66.249.76.216           0        13  \n",
       "23  66.249.76.216    True  66.249.76.216           0        13  \n",
       "24  66.249.76.216    True  66.249.76.216           0        13  \n",
       "25  66.249.76.216    True  66.249.76.216           0        13  \n",
       "26  66.249.76.216    True  66.249.76.216           0        13  "
      ]
     },
     "execution_count": 21,
     "metadata": {},
     "output_type": "execute_result"
    }
   ],
   "source": [
    "test_df.head()"
   ]
  },
  {
   "cell_type": "code",
   "execution_count": 22,
   "metadata": {},
   "outputs": [],
   "source": [
    "# Eliminate rows with iligal IP Adress\n",
    "\n",
    "test_df.drop(test_df.loc[test_df['Result']== False].index, inplace=True)\n"
   ]
  },
  {
   "cell_type": "code",
   "execution_count": 23,
   "metadata": {},
   "outputs": [],
   "source": [
    "test_df.drop(columns = ['Result','itemFound', 'matchStart', 'matchEnd'], inplace = True)"
   ]
  },
  {
   "cell_type": "markdown",
   "metadata": {},
   "source": [
    "#### To separate date from each row"
   ]
  },
  {
   "cell_type": "code",
   "execution_count": 24,
   "metadata": {},
   "outputs": [],
   "source": [
    "date_list = []\n",
    "\n",
    "for string in serched_list:\n",
    "    date_start_position = string.find('[')\n",
    "    date_end_position = string.find(']')\n",
    "    date_string = string[date_start_position+1:date_end_position]\n",
    "    date_dateTime = datetime.strptime(date_string,'%d/%b/%Y:%H:%M:%S %z')\n",
    "    date_list.append(date_dateTime)"
   ]
  },
  {
   "cell_type": "code",
   "execution_count": 25,
   "metadata": {},
   "outputs": [],
   "source": [
    "# Add datetime list to the Data Frame\n",
    "\n",
    "test_df ['Date'] = date_list"
   ]
  },
  {
   "cell_type": "code",
   "execution_count": 26,
   "metadata": {},
   "outputs": [
    {
     "data": {
      "text/html": [
       "<div>\n",
       "<style scoped>\n",
       "    .dataframe tbody tr th:only-of-type {\n",
       "        vertical-align: middle;\n",
       "    }\n",
       "\n",
       "    .dataframe tbody tr th {\n",
       "        vertical-align: top;\n",
       "    }\n",
       "\n",
       "    .dataframe thead th {\n",
       "        text-align: right;\n",
       "    }\n",
       "</style>\n",
       "<table border=\"1\" class=\"dataframe\">\n",
       "  <thead>\n",
       "    <tr style=\"text-align: right;\">\n",
       "      <th></th>\n",
       "      <th>Record</th>\n",
       "      <th>WebPage</th>\n",
       "      <th>IPAdress</th>\n",
       "      <th>Date</th>\n",
       "    </tr>\n",
       "  </thead>\n",
       "  <tbody>\n",
       "    <tr>\n",
       "      <th>22</th>\n",
       "      <td>www.akumenius.com 66.249.76.216 - - [23/Feb/20...</td>\n",
       "      <td>www.akumenius.com</td>\n",
       "      <td>66.249.76.216</td>\n",
       "      <td>2014-02-23 03:10:31+01:00</td>\n",
       "    </tr>\n",
       "    <tr>\n",
       "      <th>23</th>\n",
       "      <td>www.akumenius.com 66.249.76.216 - - [23/Feb/20...</td>\n",
       "      <td>www.akumenius.com</td>\n",
       "      <td>66.249.76.216</td>\n",
       "      <td>2014-02-23 03:10:33+01:00</td>\n",
       "    </tr>\n",
       "    <tr>\n",
       "      <th>24</th>\n",
       "      <td>www.akumenius.com 66.249.76.216 - - [23/Feb/20...</td>\n",
       "      <td>www.akumenius.com</td>\n",
       "      <td>66.249.76.216</td>\n",
       "      <td>2014-02-23 03:10:35+01:00</td>\n",
       "    </tr>\n",
       "    <tr>\n",
       "      <th>25</th>\n",
       "      <td>www.akumenius.com 66.249.76.216 - - [23/Feb/20...</td>\n",
       "      <td>www.akumenius.com</td>\n",
       "      <td>66.249.76.216</td>\n",
       "      <td>2014-02-23 03:10:38+01:00</td>\n",
       "    </tr>\n",
       "    <tr>\n",
       "      <th>26</th>\n",
       "      <td>www.akumenius.com 66.249.76.216 - - [23/Feb/20...</td>\n",
       "      <td>www.akumenius.com</td>\n",
       "      <td>66.249.76.216</td>\n",
       "      <td>2014-02-23 03:10:39+01:00</td>\n",
       "    </tr>\n",
       "  </tbody>\n",
       "</table>\n",
       "</div>"
      ],
      "text/plain": [
       "                                               Record            WebPage  \\\n",
       "22  www.akumenius.com 66.249.76.216 - - [23/Feb/20...  www.akumenius.com   \n",
       "23  www.akumenius.com 66.249.76.216 - - [23/Feb/20...  www.akumenius.com   \n",
       "24  www.akumenius.com 66.249.76.216 - - [23/Feb/20...  www.akumenius.com   \n",
       "25  www.akumenius.com 66.249.76.216 - - [23/Feb/20...  www.akumenius.com   \n",
       "26  www.akumenius.com 66.249.76.216 - - [23/Feb/20...  www.akumenius.com   \n",
       "\n",
       "         IPAdress                      Date  \n",
       "22  66.249.76.216 2014-02-23 03:10:31+01:00  \n",
       "23  66.249.76.216 2014-02-23 03:10:33+01:00  \n",
       "24  66.249.76.216 2014-02-23 03:10:35+01:00  \n",
       "25  66.249.76.216 2014-02-23 03:10:38+01:00  \n",
       "26  66.249.76.216 2014-02-23 03:10:39+01:00  "
      ]
     },
     "execution_count": 26,
     "metadata": {},
     "output_type": "execute_result"
    }
   ],
   "source": [
    "test_df.head()"
   ]
  },
  {
   "cell_type": "markdown",
   "metadata": {},
   "source": [
    "#### To find the destination in each search"
   ]
  },
  {
   "cell_type": "code",
   "execution_count": 27,
   "metadata": {},
   "outputs": [],
   "source": [
    "previous_destination_pattern = '(\\-hotel.*\\-en\\-)|(\\/hotel.*\\-en\\-)'"
   ]
  },
  {
   "cell_type": "code",
   "execution_count": 28,
   "metadata": {},
   "outputs": [],
   "source": [
    "serch_pattern (previous_destination_pattern, test_df, 'Record')"
   ]
  },
  {
   "cell_type": "code",
   "execution_count": 29,
   "metadata": {},
   "outputs": [
    {
     "data": {
      "text/html": [
       "<div>\n",
       "<style scoped>\n",
       "    .dataframe tbody tr th:only-of-type {\n",
       "        vertical-align: middle;\n",
       "    }\n",
       "\n",
       "    .dataframe tbody tr th {\n",
       "        vertical-align: top;\n",
       "    }\n",
       "\n",
       "    .dataframe thead th {\n",
       "        text-align: right;\n",
       "    }\n",
       "</style>\n",
       "<table border=\"1\" class=\"dataframe\">\n",
       "  <thead>\n",
       "    <tr style=\"text-align: right;\">\n",
       "      <th></th>\n",
       "      <th>Record</th>\n",
       "      <th>WebPage</th>\n",
       "      <th>IPAdress</th>\n",
       "      <th>Date</th>\n",
       "      <th>Result</th>\n",
       "      <th>itemFound</th>\n",
       "      <th>matchStart</th>\n",
       "      <th>matchEnd</th>\n",
       "    </tr>\n",
       "  </thead>\n",
       "  <tbody>\n",
       "    <tr>\n",
       "      <th>22</th>\n",
       "      <td>www.akumenius.com 66.249.76.216 - - [23/Feb/20...</td>\n",
       "      <td>www.akumenius.com</td>\n",
       "      <td>66.249.76.216</td>\n",
       "      <td>2014-02-23 03:10:31+01:00</td>\n",
       "      <td>True</td>\n",
       "      <td>/hoteles-baratos/ofertas-hotel-Club-&amp;-Hotel-Le...</td>\n",
       "      <td>70.0</td>\n",
       "      <td>127.0</td>\n",
       "    </tr>\n",
       "    <tr>\n",
       "      <th>23</th>\n",
       "      <td>www.akumenius.com 66.249.76.216 - - [23/Feb/20...</td>\n",
       "      <td>www.akumenius.com</td>\n",
       "      <td>66.249.76.216</td>\n",
       "      <td>2014-02-23 03:10:33+01:00</td>\n",
       "      <td>True</td>\n",
       "      <td>/hoteles-baratos/ofertas-hotel-Metropolis-Hote...</td>\n",
       "      <td>70.0</td>\n",
       "      <td>121.0</td>\n",
       "    </tr>\n",
       "    <tr>\n",
       "      <th>24</th>\n",
       "      <td>www.akumenius.com 66.249.76.216 - - [23/Feb/20...</td>\n",
       "      <td>www.akumenius.com</td>\n",
       "      <td>66.249.76.216</td>\n",
       "      <td>2014-02-23 03:10:35+01:00</td>\n",
       "      <td>True</td>\n",
       "      <td>/hoteles-baratos/ofertas-hotel-Faena-Hotel-Bue...</td>\n",
       "      <td>70.0</td>\n",
       "      <td>129.0</td>\n",
       "    </tr>\n",
       "    <tr>\n",
       "      <th>25</th>\n",
       "      <td>www.akumenius.com 66.249.76.216 - - [23/Feb/20...</td>\n",
       "      <td>www.akumenius.com</td>\n",
       "      <td>66.249.76.216</td>\n",
       "      <td>2014-02-23 03:10:38+01:00</td>\n",
       "      <td>True</td>\n",
       "      <td>/hoteles-baratos/ofertas-hotel-Kensington-Town...</td>\n",
       "      <td>70.0</td>\n",
       "      <td>132.0</td>\n",
       "    </tr>\n",
       "    <tr>\n",
       "      <th>26</th>\n",
       "      <td>www.akumenius.com 66.249.76.216 - - [23/Feb/20...</td>\n",
       "      <td>www.akumenius.com</td>\n",
       "      <td>66.249.76.216</td>\n",
       "      <td>2014-02-23 03:10:39+01:00</td>\n",
       "      <td>True</td>\n",
       "      <td>/hoteles-en-</td>\n",
       "      <td>105.0</td>\n",
       "      <td>117.0</td>\n",
       "    </tr>\n",
       "  </tbody>\n",
       "</table>\n",
       "</div>"
      ],
      "text/plain": [
       "                                               Record            WebPage  \\\n",
       "22  www.akumenius.com 66.249.76.216 - - [23/Feb/20...  www.akumenius.com   \n",
       "23  www.akumenius.com 66.249.76.216 - - [23/Feb/20...  www.akumenius.com   \n",
       "24  www.akumenius.com 66.249.76.216 - - [23/Feb/20...  www.akumenius.com   \n",
       "25  www.akumenius.com 66.249.76.216 - - [23/Feb/20...  www.akumenius.com   \n",
       "26  www.akumenius.com 66.249.76.216 - - [23/Feb/20...  www.akumenius.com   \n",
       "\n",
       "         IPAdress                      Date  Result  \\\n",
       "22  66.249.76.216 2014-02-23 03:10:31+01:00    True   \n",
       "23  66.249.76.216 2014-02-23 03:10:33+01:00    True   \n",
       "24  66.249.76.216 2014-02-23 03:10:35+01:00    True   \n",
       "25  66.249.76.216 2014-02-23 03:10:38+01:00    True   \n",
       "26  66.249.76.216 2014-02-23 03:10:39+01:00    True   \n",
       "\n",
       "                                            itemFound  matchStart  matchEnd  \n",
       "22  /hoteles-baratos/ofertas-hotel-Club-&-Hotel-Le...        70.0     127.0  \n",
       "23  /hoteles-baratos/ofertas-hotel-Metropolis-Hote...        70.0     121.0  \n",
       "24  /hoteles-baratos/ofertas-hotel-Faena-Hotel-Bue...        70.0     129.0  \n",
       "25  /hoteles-baratos/ofertas-hotel-Kensington-Town...        70.0     132.0  \n",
       "26                                       /hoteles-en-       105.0     117.0  "
      ]
     },
     "execution_count": 29,
     "metadata": {},
     "output_type": "execute_result"
    }
   ],
   "source": [
    "test_df.head()"
   ]
  },
  {
   "cell_type": "code",
   "execution_count": 30,
   "metadata": {},
   "outputs": [],
   "source": [
    "# Find the destination, starting at the end position of the previous_destination_pattern up to the next '-'"
   ]
  },
  {
   "cell_type": "code",
   "execution_count": 31,
   "metadata": {},
   "outputs": [],
   "source": [
    "destination_list = []\n",
    "end_index_list = test_df ['matchEnd'].tolist()\n",
    "\n",
    "for i in range (len(test_df)):\n",
    "    string = serched_list [i]\n",
    "    \n",
    "    if math.isnan(end_index_list [i]):\n",
    "        destination = None\n",
    "        destination_list.append (destination)\n",
    "    else: \n",
    "        start_index = int(end_index_list [i])\n",
    "        end_index = string.find ('-',start_index)\n",
    "        destination = string[start_index:end_index]\n",
    "        destination_list.append (destination)\n",
    "    "
   ]
  },
  {
   "cell_type": "code",
   "execution_count": 32,
   "metadata": {},
   "outputs": [],
   "source": [
    "test_df ['Destination'] = destination_list"
   ]
  },
  {
   "cell_type": "code",
   "execution_count": 33,
   "metadata": {},
   "outputs": [],
   "source": [
    "test_df.drop(columns = ['Result','itemFound', 'matchStart'], inplace = True)"
   ]
  },
  {
   "cell_type": "code",
   "execution_count": 34,
   "metadata": {},
   "outputs": [
    {
     "data": {
      "text/html": [
       "<div>\n",
       "<style scoped>\n",
       "    .dataframe tbody tr th:only-of-type {\n",
       "        vertical-align: middle;\n",
       "    }\n",
       "\n",
       "    .dataframe tbody tr th {\n",
       "        vertical-align: top;\n",
       "    }\n",
       "\n",
       "    .dataframe thead th {\n",
       "        text-align: right;\n",
       "    }\n",
       "</style>\n",
       "<table border=\"1\" class=\"dataframe\">\n",
       "  <thead>\n",
       "    <tr style=\"text-align: right;\">\n",
       "      <th></th>\n",
       "      <th>Record</th>\n",
       "      <th>WebPage</th>\n",
       "      <th>IPAdress</th>\n",
       "      <th>Date</th>\n",
       "      <th>matchEnd</th>\n",
       "      <th>Destination</th>\n",
       "    </tr>\n",
       "  </thead>\n",
       "  <tbody>\n",
       "    <tr>\n",
       "      <th>22</th>\n",
       "      <td>www.akumenius.com 66.249.76.216 - - [23/Feb/20...</td>\n",
       "      <td>www.akumenius.com</td>\n",
       "      <td>66.249.76.216</td>\n",
       "      <td>2014-02-23 03:10:31+01:00</td>\n",
       "      <td>127.0</td>\n",
       "      <td>Fethiye</td>\n",
       "    </tr>\n",
       "    <tr>\n",
       "      <th>23</th>\n",
       "      <td>www.akumenius.com 66.249.76.216 - - [23/Feb/20...</td>\n",
       "      <td>www.akumenius.com</td>\n",
       "      <td>66.249.76.216</td>\n",
       "      <td>2014-02-23 03:10:33+01:00</td>\n",
       "      <td>121.0</td>\n",
       "      <td>Kaunas</td>\n",
       "    </tr>\n",
       "    <tr>\n",
       "      <th>24</th>\n",
       "      <td>www.akumenius.com 66.249.76.216 - - [23/Feb/20...</td>\n",
       "      <td>www.akumenius.com</td>\n",
       "      <td>66.249.76.216</td>\n",
       "      <td>2014-02-23 03:10:35+01:00</td>\n",
       "      <td>129.0</td>\n",
       "      <td>Downtown</td>\n",
       "    </tr>\n",
       "    <tr>\n",
       "      <th>25</th>\n",
       "      <td>www.akumenius.com 66.249.76.216 - - [23/Feb/20...</td>\n",
       "      <td>www.akumenius.com</td>\n",
       "      <td>66.249.76.216</td>\n",
       "      <td>2014-02-23 03:10:38+01:00</td>\n",
       "      <td>132.0</td>\n",
       "      <td>Kensington</td>\n",
       "    </tr>\n",
       "    <tr>\n",
       "      <th>26</th>\n",
       "      <td>www.akumenius.com 66.249.76.216 - - [23/Feb/20...</td>\n",
       "      <td>www.akumenius.com</td>\n",
       "      <td>66.249.76.216</td>\n",
       "      <td>2014-02-23 03:10:39+01:00</td>\n",
       "      <td>117.0</td>\n",
       "      <td>Invermere_CANAD%C3%81</td>\n",
       "    </tr>\n",
       "  </tbody>\n",
       "</table>\n",
       "</div>"
      ],
      "text/plain": [
       "                                               Record            WebPage  \\\n",
       "22  www.akumenius.com 66.249.76.216 - - [23/Feb/20...  www.akumenius.com   \n",
       "23  www.akumenius.com 66.249.76.216 - - [23/Feb/20...  www.akumenius.com   \n",
       "24  www.akumenius.com 66.249.76.216 - - [23/Feb/20...  www.akumenius.com   \n",
       "25  www.akumenius.com 66.249.76.216 - - [23/Feb/20...  www.akumenius.com   \n",
       "26  www.akumenius.com 66.249.76.216 - - [23/Feb/20...  www.akumenius.com   \n",
       "\n",
       "         IPAdress                      Date  matchEnd            Destination  \n",
       "22  66.249.76.216 2014-02-23 03:10:31+01:00     127.0                Fethiye  \n",
       "23  66.249.76.216 2014-02-23 03:10:33+01:00     121.0                 Kaunas  \n",
       "24  66.249.76.216 2014-02-23 03:10:35+01:00     129.0               Downtown  \n",
       "25  66.249.76.216 2014-02-23 03:10:38+01:00     132.0             Kensington  \n",
       "26  66.249.76.216 2014-02-23 03:10:39+01:00     117.0  Invermere_CANAD%C3%81  "
      ]
     },
     "execution_count": 34,
     "metadata": {},
     "output_type": "execute_result"
    }
   ],
   "source": [
    "test_df.head()\n"
   ]
  },
  {
   "cell_type": "markdown",
   "metadata": {},
   "source": [
    "#### Geolocation of IP Addresses"
   ]
  },
  {
   "cell_type": "code",
   "execution_count": 35,
   "metadata": {},
   "outputs": [],
   "source": [
    "ipAdresses_list = test_df ['IPAdress'].tolist()"
   ]
  },
  {
   "cell_type": "code",
   "execution_count": 36,
   "metadata": {},
   "outputs": [],
   "source": [
    "request_country = []\n",
    "request_region = []\n",
    "\n",
    "\n",
    "for ip in ipAdresses_list:\n",
    "    country = DbIpCity.get(ip, api_key='free').country\n",
    "    region = DbIpCity.get(ip, api_key='free').region\n",
    "    request_country.append (country)\n",
    "    request_region.append (region)\n"
   ]
  },
  {
   "cell_type": "code",
   "execution_count": 37,
   "metadata": {},
   "outputs": [],
   "source": [
    "test_df ['requestCountry'] = request_country\n",
    "test_df ['requestRegion'] = request_region"
   ]
  },
  {
   "cell_type": "code",
   "execution_count": 38,
   "metadata": {},
   "outputs": [
    {
     "data": {
      "text/html": [
       "<div>\n",
       "<style scoped>\n",
       "    .dataframe tbody tr th:only-of-type {\n",
       "        vertical-align: middle;\n",
       "    }\n",
       "\n",
       "    .dataframe tbody tr th {\n",
       "        vertical-align: top;\n",
       "    }\n",
       "\n",
       "    .dataframe thead th {\n",
       "        text-align: right;\n",
       "    }\n",
       "</style>\n",
       "<table border=\"1\" class=\"dataframe\">\n",
       "  <thead>\n",
       "    <tr style=\"text-align: right;\">\n",
       "      <th></th>\n",
       "      <th>Record</th>\n",
       "      <th>WebPage</th>\n",
       "      <th>IPAdress</th>\n",
       "      <th>Date</th>\n",
       "      <th>matchEnd</th>\n",
       "      <th>Destination</th>\n",
       "      <th>requestCountry</th>\n",
       "      <th>requestRegion</th>\n",
       "    </tr>\n",
       "  </thead>\n",
       "  <tbody>\n",
       "    <tr>\n",
       "      <th>22</th>\n",
       "      <td>www.akumenius.com 66.249.76.216 - - [23/Feb/20...</td>\n",
       "      <td>www.akumenius.com</td>\n",
       "      <td>66.249.76.216</td>\n",
       "      <td>2014-02-23 03:10:31+01:00</td>\n",
       "      <td>127.0</td>\n",
       "      <td>Fethiye</td>\n",
       "      <td>US</td>\n",
       "      <td>California</td>\n",
       "    </tr>\n",
       "    <tr>\n",
       "      <th>23</th>\n",
       "      <td>www.akumenius.com 66.249.76.216 - - [23/Feb/20...</td>\n",
       "      <td>www.akumenius.com</td>\n",
       "      <td>66.249.76.216</td>\n",
       "      <td>2014-02-23 03:10:33+01:00</td>\n",
       "      <td>121.0</td>\n",
       "      <td>Kaunas</td>\n",
       "      <td>US</td>\n",
       "      <td>California</td>\n",
       "    </tr>\n",
       "    <tr>\n",
       "      <th>24</th>\n",
       "      <td>www.akumenius.com 66.249.76.216 - - [23/Feb/20...</td>\n",
       "      <td>www.akumenius.com</td>\n",
       "      <td>66.249.76.216</td>\n",
       "      <td>2014-02-23 03:10:35+01:00</td>\n",
       "      <td>129.0</td>\n",
       "      <td>Downtown</td>\n",
       "      <td>US</td>\n",
       "      <td>California</td>\n",
       "    </tr>\n",
       "    <tr>\n",
       "      <th>25</th>\n",
       "      <td>www.akumenius.com 66.249.76.216 - - [23/Feb/20...</td>\n",
       "      <td>www.akumenius.com</td>\n",
       "      <td>66.249.76.216</td>\n",
       "      <td>2014-02-23 03:10:38+01:00</td>\n",
       "      <td>132.0</td>\n",
       "      <td>Kensington</td>\n",
       "      <td>US</td>\n",
       "      <td>California</td>\n",
       "    </tr>\n",
       "    <tr>\n",
       "      <th>26</th>\n",
       "      <td>www.akumenius.com 66.249.76.216 - - [23/Feb/20...</td>\n",
       "      <td>www.akumenius.com</td>\n",
       "      <td>66.249.76.216</td>\n",
       "      <td>2014-02-23 03:10:39+01:00</td>\n",
       "      <td>117.0</td>\n",
       "      <td>Invermere_CANAD%C3%81</td>\n",
       "      <td>US</td>\n",
       "      <td>California</td>\n",
       "    </tr>\n",
       "  </tbody>\n",
       "</table>\n",
       "</div>"
      ],
      "text/plain": [
       "                                               Record            WebPage  \\\n",
       "22  www.akumenius.com 66.249.76.216 - - [23/Feb/20...  www.akumenius.com   \n",
       "23  www.akumenius.com 66.249.76.216 - - [23/Feb/20...  www.akumenius.com   \n",
       "24  www.akumenius.com 66.249.76.216 - - [23/Feb/20...  www.akumenius.com   \n",
       "25  www.akumenius.com 66.249.76.216 - - [23/Feb/20...  www.akumenius.com   \n",
       "26  www.akumenius.com 66.249.76.216 - - [23/Feb/20...  www.akumenius.com   \n",
       "\n",
       "         IPAdress                      Date  matchEnd            Destination  \\\n",
       "22  66.249.76.216 2014-02-23 03:10:31+01:00     127.0                Fethiye   \n",
       "23  66.249.76.216 2014-02-23 03:10:33+01:00     121.0                 Kaunas   \n",
       "24  66.249.76.216 2014-02-23 03:10:35+01:00     129.0               Downtown   \n",
       "25  66.249.76.216 2014-02-23 03:10:38+01:00     132.0             Kensington   \n",
       "26  66.249.76.216 2014-02-23 03:10:39+01:00     117.0  Invermere_CANAD%C3%81   \n",
       "\n",
       "   requestCountry requestRegion  \n",
       "22             US    California  \n",
       "23             US    California  \n",
       "24             US    California  \n",
       "25             US    California  \n",
       "26             US    California  "
      ]
     },
     "execution_count": 38,
     "metadata": {},
     "output_type": "execute_result"
    }
   ],
   "source": [
    "test_df.head()"
   ]
  },
  {
   "cell_type": "markdown",
   "metadata": {},
   "source": [
    "#### Plot of the distributions of requests by country"
   ]
  },
  {
   "cell_type": "code",
   "execution_count": 39,
   "metadata": {},
   "outputs": [],
   "source": [
    "request_df = test_df.groupby(['requestCountry'], as_index = False).count()\n"
   ]
  },
  {
   "cell_type": "code",
   "execution_count": 40,
   "metadata": {},
   "outputs": [
    {
     "data": {
      "text/html": [
       "<div>\n",
       "<style scoped>\n",
       "    .dataframe tbody tr th:only-of-type {\n",
       "        vertical-align: middle;\n",
       "    }\n",
       "\n",
       "    .dataframe tbody tr th {\n",
       "        vertical-align: top;\n",
       "    }\n",
       "\n",
       "    .dataframe thead th {\n",
       "        text-align: right;\n",
       "    }\n",
       "</style>\n",
       "<table border=\"1\" class=\"dataframe\">\n",
       "  <thead>\n",
       "    <tr style=\"text-align: right;\">\n",
       "      <th></th>\n",
       "      <th>requestCountry</th>\n",
       "      <th>Record</th>\n",
       "      <th>WebPage</th>\n",
       "      <th>IPAdress</th>\n",
       "      <th>Date</th>\n",
       "      <th>matchEnd</th>\n",
       "      <th>Destination</th>\n",
       "      <th>requestRegion</th>\n",
       "    </tr>\n",
       "  </thead>\n",
       "  <tbody>\n",
       "    <tr>\n",
       "      <th>0</th>\n",
       "      <td>CA</td>\n",
       "      <td>27</td>\n",
       "      <td>27</td>\n",
       "      <td>27</td>\n",
       "      <td>27</td>\n",
       "      <td>24</td>\n",
       "      <td>24</td>\n",
       "      <td>27</td>\n",
       "    </tr>\n",
       "    <tr>\n",
       "      <th>1</th>\n",
       "      <td>CN</td>\n",
       "      <td>45</td>\n",
       "      <td>45</td>\n",
       "      <td>45</td>\n",
       "      <td>45</td>\n",
       "      <td>44</td>\n",
       "      <td>44</td>\n",
       "      <td>45</td>\n",
       "    </tr>\n",
       "    <tr>\n",
       "      <th>2</th>\n",
       "      <td>DE</td>\n",
       "      <td>2</td>\n",
       "      <td>2</td>\n",
       "      <td>2</td>\n",
       "      <td>2</td>\n",
       "      <td>2</td>\n",
       "      <td>2</td>\n",
       "      <td>2</td>\n",
       "    </tr>\n",
       "    <tr>\n",
       "      <th>3</th>\n",
       "      <td>ES</td>\n",
       "      <td>5</td>\n",
       "      <td>5</td>\n",
       "      <td>5</td>\n",
       "      <td>5</td>\n",
       "      <td>0</td>\n",
       "      <td>0</td>\n",
       "      <td>5</td>\n",
       "    </tr>\n",
       "    <tr>\n",
       "      <th>4</th>\n",
       "      <td>FR</td>\n",
       "      <td>2</td>\n",
       "      <td>2</td>\n",
       "      <td>2</td>\n",
       "      <td>2</td>\n",
       "      <td>0</td>\n",
       "      <td>0</td>\n",
       "      <td>2</td>\n",
       "    </tr>\n",
       "    <tr>\n",
       "      <th>5</th>\n",
       "      <td>NL</td>\n",
       "      <td>1</td>\n",
       "      <td>1</td>\n",
       "      <td>1</td>\n",
       "      <td>1</td>\n",
       "      <td>1</td>\n",
       "      <td>1</td>\n",
       "      <td>1</td>\n",
       "    </tr>\n",
       "    <tr>\n",
       "      <th>6</th>\n",
       "      <td>RU</td>\n",
       "      <td>3</td>\n",
       "      <td>3</td>\n",
       "      <td>3</td>\n",
       "      <td>3</td>\n",
       "      <td>3</td>\n",
       "      <td>3</td>\n",
       "      <td>3</td>\n",
       "    </tr>\n",
       "    <tr>\n",
       "      <th>7</th>\n",
       "      <td>SE</td>\n",
       "      <td>3</td>\n",
       "      <td>3</td>\n",
       "      <td>3</td>\n",
       "      <td>3</td>\n",
       "      <td>3</td>\n",
       "      <td>3</td>\n",
       "      <td>3</td>\n",
       "    </tr>\n",
       "    <tr>\n",
       "      <th>8</th>\n",
       "      <td>US</td>\n",
       "      <td>888</td>\n",
       "      <td>888</td>\n",
       "      <td>888</td>\n",
       "      <td>888</td>\n",
       "      <td>809</td>\n",
       "      <td>809</td>\n",
       "      <td>888</td>\n",
       "    </tr>\n",
       "    <tr>\n",
       "      <th>9</th>\n",
       "      <td>VG</td>\n",
       "      <td>3</td>\n",
       "      <td>3</td>\n",
       "      <td>3</td>\n",
       "      <td>3</td>\n",
       "      <td>3</td>\n",
       "      <td>3</td>\n",
       "      <td>3</td>\n",
       "    </tr>\n",
       "  </tbody>\n",
       "</table>\n",
       "</div>"
      ],
      "text/plain": [
       "  requestCountry  Record  WebPage  IPAdress  Date  matchEnd  Destination  \\\n",
       "0             CA      27       27        27    27        24           24   \n",
       "1             CN      45       45        45    45        44           44   \n",
       "2             DE       2        2         2     2         2            2   \n",
       "3             ES       5        5         5     5         0            0   \n",
       "4             FR       2        2         2     2         0            0   \n",
       "5             NL       1        1         1     1         1            1   \n",
       "6             RU       3        3         3     3         3            3   \n",
       "7             SE       3        3         3     3         3            3   \n",
       "8             US     888      888       888   888       809          809   \n",
       "9             VG       3        3         3     3         3            3   \n",
       "\n",
       "   requestRegion  \n",
       "0             27  \n",
       "1             45  \n",
       "2              2  \n",
       "3              5  \n",
       "4              2  \n",
       "5              1  \n",
       "6              3  \n",
       "7              3  \n",
       "8            888  \n",
       "9              3  "
      ]
     },
     "execution_count": 40,
     "metadata": {},
     "output_type": "execute_result"
    }
   ],
   "source": [
    "request_df"
   ]
  },
  {
   "cell_type": "code",
   "execution_count": 41,
   "metadata": {},
   "outputs": [
    {
     "data": {
      "image/png": "[encoded data removed]",
      "text/plain": [
       "<Figure size 720x360 with 1 Axes>"
      ]
     },
     "metadata": {
      "needs_background": "light"
     },
     "output_type": "display_data"
    },
    {
     "name": "stdout",
     "output_type": "stream",
     "text": [
      "CONCLUION\n",
      "US is, by far, the country with most requests recorded\n"
     ]
    }
   ],
   "source": [
    "plt.figure (figsize = (10,5))\n",
    "\n",
    "sns.barplot (data = request_df, x = 'requestCountry', y = 'Record', palette=\"pastel\" )\n",
    "\n",
    "fuente_titulo = {'family' : 'DejaVu Sans', 'color' : 'steelblue', 'size' : 20}\n",
    "fuente_ejes = {'family' : 'DejaVu Sans', 'color' : 'black', 'size' : 12}\n",
    "\n",
    "plt.title(\"Global distribution of requests\", fontdict = fuente_titulo)\n",
    "plt.xlabel(\"Country\", fontdict = fuente_ejes)\n",
    "plt.ylabel(\"Number of requests (Unt)\", fontdict = fuente_ejes)\n",
    "\n",
    "plt.show()\n",
    "\n",
    "print ('CONCLUION\\nUS is, by far, the country with most requests recorded')"
   ]
  },
  {
   "cell_type": "code",
   "execution_count": null,
   "metadata": {},
   "outputs": [],
   "source": []
  },
  {
   "cell_type": "code",
   "execution_count": null,
   "metadata": {},
   "outputs": [],
   "source": []
  },
  {
   "cell_type": "code",
   "execution_count": null,
   "metadata": {},
   "outputs": [],
   "source": []
  }
 ],
 "metadata": {
  "kernelspec": {
   "display_name": "Python 3",
   "language": "python",
   "name": "python3"
  },
  "language_info": {
   "codemirror_mode": {
    "name": "ipython",
    "version": 3
   },
   "file_extension": ".py",
   "mimetype": "text/x-python",
   "name": "python",
   "nbconvert_exporter": "python",
   "pygments_lexer": "ipython3",
   "version": "3.8.3"
  }
 },
 "nbformat": 4,
 "nbformat_minor": 4
}
